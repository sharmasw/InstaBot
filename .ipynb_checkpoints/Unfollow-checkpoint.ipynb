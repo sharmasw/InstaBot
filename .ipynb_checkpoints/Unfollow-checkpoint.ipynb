{
 "cells": [
  {
   "cell_type": "code",
   "execution_count": 1,
   "metadata": {},
   "outputs": [
    {
     "name": "stdout",
     "output_type": "stream",
     "text": [
      "(177, 1)\n"
     ]
    },
    {
     "data": {
      "text/plain": [
       "True"
      ]
     },
     "execution_count": 1,
     "metadata": {},
     "output_type": "execute_result"
    }
   ],
   "source": [
    "from uiautomator import device as d\n",
    "from uiautomator import Device\n",
    "from time import sleep\n",
    "import os,time\n",
    "import pandas as pd\n",
    "data=pd.read_excel('MySubscriberList.xlsx')\n",
    "print (data.shape)\n",
    "\n",
    "d.infod = Device('375637504c583398')\n",
    "\n",
    "d.info\n",
    "\n",
    "d.press.home()\n",
    "sx, sy, ex, ey= 100 ,150,100,450\n",
    "d.swipe(sx, sy, ex, ey, steps=5)\n",
    "\n",
    "instaVal=d(text='Instagram', className='android.widget.TextView')\n",
    "instaVal.click()\n",
    "\n",
    "\n",
    "userList=list(data['userList'])\n",
    "\n",
    "time.sleep(3)\n",
    "d(className='android.widget.FrameLayout',description='Profile').click()\n",
    "\n",
    "d(text='Following', className='android.widget.TextView').click()\n",
    "time.sleep(10)\n",
    "\n",
    "sx, sy, ex, ey= 560,800,560 ,250\n",
    "d.swipe(sx, sy, ex, ey, steps=10)\n",
    "\n",
    "count=0\n",
    "for k in range(70):\n",
    "    for i in d(resourceId='com.instagram.android:id/button'):\n",
    "        toCheck=i.info['contentDescription'].replace('Following ','').replace(' button','')\n",
    "#         print (toCheck)\n",
    "        if toCheck in userList:\n",
    "            print (toCheck, ' NO action')\n",
    "            pass\n",
    "        else:\n",
    "            i.click()\n",
    "            print (toCheck, ' UNfollowed action')\n",
    "            count +=1\n",
    "        time.sleep(3)\n",
    "    sx, sy, ex, ey= 560,800,560 ,250\n",
    "    d.swipe(sx, sy, ex, ey, steps=10)\n",
    "    time.sleep(10)\n",
    "    if count >10:\n",
    "        break\n",
    "        \n",
    "for i in range(7):\n",
    "    d.press.back()\n",
    "    \n",
    "d.screen('off')"
   ]
  },
  {
   "cell_type": "code",
   "execution_count": 9,
   "metadata": {},
   "outputs": [],
   "source": [
    "for i in range(7):\n",
    "    d.press.back()\n",
    "    \n",
    "d.screen('off')"
   ]
  },
  {
   "cell_type": "code",
   "execution_count": null,
   "metadata": {},
   "outputs": [],
   "source": []
  },
  {
   "cell_type": "code",
   "execution_count": null,
   "metadata": {},
   "outputs": [],
   "source": []
  },
  {
   "cell_type": "code",
   "execution_count": null,
   "metadata": {},
   "outputs": [],
   "source": []
  },
  {
   "cell_type": "code",
   "execution_count": null,
   "metadata": {},
   "outputs": [],
   "source": []
  },
  {
   "cell_type": "code",
   "execution_count": null,
   "metadata": {},
   "outputs": [],
   "source": []
  }
 ],
 "metadata": {
  "kernelspec": {
   "display_name": "Python 3",
   "language": "python",
   "name": "python3"
  },
  "language_info": {
   "codemirror_mode": {
    "name": "ipython",
    "version": 3
   },
   "file_extension": ".py",
   "mimetype": "text/x-python",
   "name": "python",
   "nbconvert_exporter": "python",
   "pygments_lexer": "ipython3",
   "version": "3.6.8"
  }
 },
 "nbformat": 4,
 "nbformat_minor": 2
}
