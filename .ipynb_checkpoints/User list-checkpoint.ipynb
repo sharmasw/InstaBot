{
 "cells": [
  {
   "cell_type": "code",
   "execution_count": null,
   "metadata": {},
   "outputs": [],
   "source": [
    "ele='beauty'\n",
    "from uiautomator import device as d\n",
    "from uiautomator import Device\n",
    "from time import sleep\n",
    "import os,time\n",
    "\n",
    "d.infod = Device('375637504c583398')\n",
    "\n",
    "d.info\n",
    "\n",
    "d.press.home()\n",
    "sx, sy, ex, ey= 100 ,150,100,450\n",
    "d.swipe(sx, sy, ex, ey, steps=5)\n",
    "\n",
    "instaVal=d(text='Instagram', className='android.widget.TextView')\n",
    "instaVal.click()\n",
    "\n",
    "time.sleep(3)\n",
    "d(className='android.widget.FrameLayout',description='Profile').click()\n",
    "\n",
    "d(text='Following', className='android.widget.TextView').click()\n",
    "time.sleep(10)\n",
    "\n",
    "sx, sy, ex, ey= 560,800,560 ,250\n",
    "d.swipe(sx, sy, ex, ey, steps=10)\n",
    "\n",
    "existingUserName=[]\n",
    "for i in range(100):\n",
    "    for view in d(resourceId='com.instagram.android:id/follow_list_subtitle'):\n",
    "        print(view.info['text'])\n",
    "        existingUserName.append(view.info['text'])\n",
    "    sx, sy, ex, ey= 560,800,560 ,250\n",
    "    d.swipe(sx, sy, ex, ey, steps=10)\n",
    "    time.sleep(3)\n",
    "    \n",
    "existingUserName=list(set(existingUserName))\n",
    "import pandas as pd\n",
    "dataList=pd.DataFrame(data={'userList':existingUserName})\n",
    "dataList.to_excel('MySubscriberList.xlsx',index=False)\n",
    "len(existingUserName)\n",
    "\n",
    "for i in range(7):\n",
    "    d.press.back()\n",
    "    \n",
    "d.screen('off')"
   ]
  },
  {
   "cell_type": "code",
   "execution_count": null,
   "metadata": {},
   "outputs": [],
   "source": []
  },
  {
   "cell_type": "code",
   "execution_count": null,
   "metadata": {
    "scrolled": true
   },
   "outputs": [],
   "source": []
  },
  {
   "cell_type": "code",
   "execution_count": null,
   "metadata": {},
   "outputs": [],
   "source": []
  },
  {
   "cell_type": "code",
   "execution_count": null,
   "metadata": {},
   "outputs": [],
   "source": []
  },
  {
   "cell_type": "code",
   "execution_count": null,
   "metadata": {},
   "outputs": [],
   "source": []
  },
  {
   "cell_type": "code",
   "execution_count": null,
   "metadata": {},
   "outputs": [],
   "source": []
  },
  {
   "cell_type": "code",
   "execution_count": null,
   "metadata": {},
   "outputs": [],
   "source": []
  },
  {
   "cell_type": "code",
   "execution_count": null,
   "metadata": {},
   "outputs": [],
   "source": []
  },
  {
   "cell_type": "code",
   "execution_count": null,
   "metadata": {},
   "outputs": [],
   "source": []
  },
  {
   "cell_type": "code",
   "execution_count": null,
   "metadata": {},
   "outputs": [],
   "source": []
  },
  {
   "cell_type": "code",
   "execution_count": null,
   "metadata": {},
   "outputs": [],
   "source": []
  }
 ],
 "metadata": {
  "kernelspec": {
   "display_name": "Python 3",
   "language": "python",
   "name": "python3"
  },
  "language_info": {
   "codemirror_mode": {
    "name": "ipython",
    "version": 3
   },
   "file_extension": ".py",
   "mimetype": "text/x-python",
   "name": "python",
   "nbconvert_exporter": "python",
   "pygments_lexer": "ipython3",
   "version": "3.6.8"
  }
 },
 "nbformat": 4,
 "nbformat_minor": 2
}
