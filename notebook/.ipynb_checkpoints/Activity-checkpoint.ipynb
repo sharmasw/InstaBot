{
 "cells": [
  {
   "cell_type": "code",
   "execution_count": 1,
   "metadata": {},
   "outputs": [
    {
     "data": {
      "text/plain": [
       "True"
      ]
     },
     "execution_count": 1,
     "metadata": {},
     "output_type": "execute_result"
    }
   ],
   "source": [
    "ele='beauty'\n",
    "from uiautomator import device as d\n",
    "from uiautomator import Device\n",
    "from time import sleep\n",
    "import os,time,random\n",
    "from tqdm import tqdm\n",
    "\n",
    "d.infod = Device('375637504c583398')\n",
    "\n",
    "d.info\n",
    "\n",
    "d.press.home()\n",
    "sx, sy, ex, ey= 100 ,150,100,450\n",
    "d.swipe(sx, sy, ex, ey, steps=5)\n",
    "\n",
    "instaVal=d(text='Instagram', className='android.widget.TextView')\n",
    "instaVal.click()\n",
    "\n",
    "time.sleep(3)\n",
    "\n",
    "sx, sy, ex, ey= 560,800,560 ,250\n",
    "d.swipe(sx, sy, ex, ey, steps=10)"
   ]
  },
  {
   "cell_type": "code",
   "execution_count": 2,
   "metadata": {},
   "outputs": [
    {
     "ename": "IndentationError",
     "evalue": "expected an indented block (<ipython-input-2-b62fc57f7312>, line 20)",
     "output_type": "error",
     "traceback": [
      "\u001b[1;36m  File \u001b[1;32m\"<ipython-input-2-b62fc57f7312>\"\u001b[1;36m, line \u001b[1;32m20\u001b[0m\n\u001b[1;33m    sx, sy, ex, ey= 560,800,560 ,250\u001b[0m\n\u001b[1;37m     ^\u001b[0m\n\u001b[1;31mIndentationError\u001b[0m\u001b[1;31m:\u001b[0m expected an indented block\n"
     ]
    }
   ],
   "source": [
    "for i in tqdm(range(100)):\n",
    "    try:\n",
    "        d(resourceId='com.instagram.android:id/gallery_menu',className='android.widget.FrameLayout').click()\n",
    "        for i in range(2):\n",
    "            d.press.back()\n",
    "        sx, sy, ex, ey= 560,800,560 ,250\n",
    "        d.swipe(sx, sy, ex, ey, steps=10)\n",
    "    except:\n",
    "        pass        \n",
    "    pp=random.randint(10,100)%2\n",
    "    if pp==0:\n",
    "        try:\n",
    "            pp=d(resourceId='com.instagram.android:id/row_feed_button_like',description='Like')\n",
    "            pp.click()\n",
    "        except:\n",
    "            pass\n",
    "    sx, sy, ex, ey= 560,800,560 ,250\n",
    "    d.swipe(sx, sy, ex, ey, steps=10)\n",
    "    "
   ]
  },
  {
   "cell_type": "code",
   "execution_count": null,
   "metadata": {},
   "outputs": [],
   "source": [
    "for i in range(7):\n",
    "    d.press.back()\n",
    "    "
   ]
  },
  {
   "cell_type": "code",
   "execution_count": null,
   "metadata": {},
   "outputs": [],
   "source": [
    "d.screen('off')"
   ]
  },
  {
   "cell_type": "code",
   "execution_count": null,
   "metadata": {},
   "outputs": [],
   "source": [
    "d.press"
   ]
  },
  {
   "cell_type": "code",
   "execution_count": null,
   "metadata": {},
   "outputs": [],
   "source": []
  },
  {
   "cell_type": "code",
   "execution_count": null,
   "metadata": {},
   "outputs": [],
   "source": []
  }
 ],
 "metadata": {
  "kernelspec": {
   "display_name": "Python 3",
   "language": "python",
   "name": "python3"
  },
  "language_info": {
   "codemirror_mode": {
    "name": "ipython",
    "version": 3
   },
   "file_extension": ".py",
   "mimetype": "text/x-python",
   "name": "python",
   "nbconvert_exporter": "python",
   "pygments_lexer": "ipython3",
   "version": "3.6.8"
  }
 },
 "nbformat": 4,
 "nbformat_minor": 2
}
